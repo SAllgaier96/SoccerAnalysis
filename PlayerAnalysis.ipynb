{
 "cells": [
  {
   "cell_type": "markdown",
   "metadata": {},
   "source": [
    "***Libraries***"
   ]
  },
  {
   "cell_type": "code",
   "execution_count": null,
   "metadata": {},
   "outputs": [],
   "source": [
    "!pip install ipydeps\n",
    "import ipydeps\n",
    "ipydeps.pip(['plotly', 'pandas', 'numpy', 'gspread', 'oauth2client', 'df2gspread'])\n",
    "import plotly\n",
    "import pandas as pd\n",
    "import numpy as np\n",
    "\n",
    "#Importing the module for google sheets connection\n",
    "import gspread\n",
    "from df2gspread import df2gspread as d2g\n",
    "from oauth2client.service_account import ServiceAccountCredentials"
   ]
  },
  {
   "cell_type": "markdown",
   "metadata": {},
   "source": [
    "***Load current data from Google Sheets***"
   ]
  },
  {
   "cell_type": "code",
   "execution_count": null,
   "metadata": {},
   "outputs": [],
   "source": [
    "# Use this to figure out your current filepath and edit the path below\n",
    "import pathlib\n",
    "pathlib.Path().resolve()"
   ]
  },
  {
   "cell_type": "code",
   "execution_count": null,
   "metadata": {},
   "outputs": [],
   "source": [
    "# The only thing you need to update is your filepath after you have the JSON\n",
    "path = '/Users/sallgaier96/Desktop/playeranalysis-fbf42b63b873.json'\n",
    "\n",
    "# The scope is always look like this so we did not need to change anything\n",
    "# https://docs.google.com/spreadsheets/d/1-kUlYLeDEQyzw2PYnLn6quq7kFYJbduI_Zrk_bQ7_9A/edit#gid=1130953974\n",
    "scope = [\n",
    "   'https://spreadsheets.google.com/feeds',\n",
    "         'https://www.googleapis.com/auth/drive']\n",
    "#Name of our Service Account Key\n",
    "google_key_file = path\n",
    "credentials = ServiceAccountCredentials.from_json_keyfile_name(google_key_file, scope)\n",
    "gc = gspread.authorize(credentials)\n",
    "\n",
    "print(\"Starting data pull...\")\n",
    "#Opening the worksheet by using Worksheet ID\n",
    "workbook = gc.open_by_key('1-kUlYLeDEQyzw2PYnLn6quq7kFYJbduI_Zrk_bQ7_9A')\n",
    "#Selecting which sheet to pulling the data\n",
    "PlayerSheet = workbook.worksheet('PlayerOllie')\n",
    "TeamSheet = workbook.worksheet('TeamOllie')\n",
    "#Pulling the data and transform it to the data frame\n",
    "PlayerValues = PlayerSheet.get_all_values()\n",
    "TeamValues = TeamSheet.get_all_values()\n",
    "# We will call the output df PlayerOllie\n",
    "PlayerOllie = pd.DataFrame(PlayerValues[1:], columns = PlayerValues[0])\n",
    "TeamOllie = pd.DataFrame(TeamValues[1:], columns = TeamValues[0])\n",
    "print(\"Success!\")"
   ]
  },
  {
   "cell_type": "code",
   "execution_count": null,
   "metadata": {},
   "outputs": [],
   "source": []
  }
 ],
 "metadata": {
  "celltoolbar": "Raw Cell Format",
  "kernelspec": {
   "display_name": "Python 3",
   "language": "python",
   "name": "python3"
  },
  "language_info": {
   "codemirror_mode": {
    "name": "ipython",
    "version": 3
   },
   "file_extension": ".py",
   "mimetype": "text/x-python",
   "name": "python",
   "nbconvert_exporter": "python",
   "pygments_lexer": "ipython3",
   "version": "3.7.4"
  }
 },
 "nbformat": 4,
 "nbformat_minor": 2
}
