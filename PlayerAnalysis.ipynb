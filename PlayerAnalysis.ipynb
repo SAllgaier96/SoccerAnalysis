{
 "cells": [
  {
   "cell_type": "code",
   "execution_count": 4,
   "metadata": {},
   "outputs": [
    {
     "name": "stdout",
     "output_type": "stream",
     "text": [
      "Collecting ipydeps\n",
      "  Downloading https://files.pythonhosted.org/packages/88/9a/c26792388fc38bc4551d675d6ff08e2b208c51fae04fced7ca2453b3362b/ipydeps-2020.240.0.tar.gz\n",
      "Requirement already satisfied: pip in /Users/sallgaier96/opt/anaconda3/lib/python3.7/site-packages (from ipydeps) (19.2.3)\n",
      "Requirement already satisfied: setuptools in /Users/sallgaier96/opt/anaconda3/lib/python3.7/site-packages (from ipydeps) (41.4.0)\n",
      "Collecting pypki2>=0.10.1 (from ipydeps)\n",
      "  Downloading https://files.pythonhosted.org/packages/95/70/8d5310bbbea7536fe7c62143c2f4f1ba8015a30917d2f29c62784d1ca577/pypki2-0.11.0.tar.gz\n",
      "Requirement already satisfied: pyOpenSSL in /Users/sallgaier96/opt/anaconda3/lib/python3.7/site-packages (from pypki2>=0.10.1->ipydeps) (19.0.0)\n",
      "Requirement already satisfied: cryptography>=2.3 in /Users/sallgaier96/opt/anaconda3/lib/python3.7/site-packages (from pyOpenSSL->pypki2>=0.10.1->ipydeps) (2.7)\n",
      "Requirement already satisfied: six>=1.5.2 in /Users/sallgaier96/opt/anaconda3/lib/python3.7/site-packages (from pyOpenSSL->pypki2>=0.10.1->ipydeps) (1.12.0)\n",
      "Requirement already satisfied: cffi!=1.11.3,>=1.8 in /Users/sallgaier96/opt/anaconda3/lib/python3.7/site-packages (from cryptography>=2.3->pyOpenSSL->pypki2>=0.10.1->ipydeps) (1.12.3)\n",
      "Requirement already satisfied: asn1crypto>=0.21.0 in /Users/sallgaier96/opt/anaconda3/lib/python3.7/site-packages (from cryptography>=2.3->pyOpenSSL->pypki2>=0.10.1->ipydeps) (1.0.1)\n",
      "Requirement already satisfied: pycparser in /Users/sallgaier96/opt/anaconda3/lib/python3.7/site-packages (from cffi!=1.11.3,>=1.8->cryptography>=2.3->pyOpenSSL->pypki2>=0.10.1->ipydeps) (2.19)\n",
      "Building wheels for collected packages: ipydeps, pypki2\n",
      "  Building wheel for ipydeps (setup.py) ... \u001b[?25ldone\n",
      "\u001b[?25h  Created wheel for ipydeps: filename=ipydeps-2020.240.0-cp37-none-any.whl size=10841 sha256=ff724b359505c10b3b42390b01b841bfba150a2107775787a3d25eb6d2a1bd9e\n",
      "  Stored in directory: /Users/sallgaier96/Library/Caches/pip/wheels/26/33/a2/4ff662f2518054de7ffbc888c2a2574b7ae8105c4031d77f9a\n",
      "  Building wheel for pypki2 (setup.py) ... \u001b[?25ldone\n",
      "\u001b[?25h  Created wheel for pypki2: filename=pypki2-0.11.0-cp37-none-any.whl size=10426 sha256=64c24203023edf62e2853f7d0872bfe55a8e51a51a48b7588560ed92be4c16db\n",
      "  Stored in directory: /Users/sallgaier96/Library/Caches/pip/wheels/94/40/0b/348ab8c4a7ccd1f846f0b7a011065f70b06a53c7accf84a301\n",
      "Successfully built ipydeps pypki2\n",
      "Installing collected packages: pypki2, ipydeps\n",
      "Successfully installed ipydeps-2020.240.0 pypki2-0.11.0\n"
     ]
    },
    {
     "data": {
      "text/html": [
       "<div style=\"font-family:monospace;background:#e6fee6;color:black\"><pre>Packages already installed: numpy, pandas, plotly</pre></div>"
      ],
      "text/plain": [
       "<IPython.core.display.HTML object>"
      ]
     },
     "metadata": {},
     "output_type": "display_data"
    },
    {
     "data": {
      "text/html": [
       "<div style=\"font-family:monospace;background:lightyellow;color:black\"><pre>No new packages installed</pre></div>"
      ],
      "text/plain": [
       "<IPython.core.display.HTML object>"
      ]
     },
     "metadata": {},
     "output_type": "display_data"
    },
    {
     "data": {
      "text/html": [
       "<div style=\"font-family:monospace;background:#eee;color:black\"><pre>Done</pre></div>"
      ],
      "text/plain": [
       "<IPython.core.display.HTML object>"
      ]
     },
     "metadata": {},
     "output_type": "display_data"
    }
   ],
   "source": [
    "!pip install ipydeps\n",
    "import ipydeps\n",
    "ipydeps.pip(['plotly', 'pandas', 'numpy'])\n",
    "import plotly\n",
    "import pandas as pd\n",
    "import numpy as np"
   ]
  },
  {
   "cell_type": "code",
   "execution_count": 5,
   "metadata": {},
   "outputs": [
    {
     "name": "stdout",
     "output_type": "stream",
     "text": [
      "Setup Test\n"
     ]
    }
   ],
   "source": [
    "print('Setup Test')"
   ]
  },
  {
   "cell_type": "markdown",
   "metadata": {},
   "source": [
    "git init\n",
    "git add GeeksForGeeks.ipynb\n",
    "git commit -m \"notebook first commit\" \n",
    "git remote add origin https://github.com/SAllgaier96/SoccerAnalysis.git\n",
    "git push -u origin master \n",
    "\n"
   ]
  }
 ],
 "metadata": {
  "kernelspec": {
   "display_name": "Python 3",
   "language": "python",
   "name": "python3"
  },
  "language_info": {
   "codemirror_mode": {
    "name": "ipython",
    "version": 3
   },
   "file_extension": ".py",
   "mimetype": "text/x-python",
   "name": "python",
   "nbconvert_exporter": "python",
   "pygments_lexer": "ipython3",
   "version": "3.7.4"
  }
 },
 "nbformat": 4,
 "nbformat_minor": 2
}
