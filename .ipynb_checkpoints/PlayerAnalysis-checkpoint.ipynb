{
 "cells": [
  {
   "cell_type": "markdown",
   "metadata": {},
   "source": [
    "***Libraries***"
   ]
  },
  {
   "cell_type": "code",
   "execution_count": 1,
   "metadata": {},
   "outputs": [
    {
     "name": "stdout",
     "output_type": "stream",
     "text": [
      "Collecting ipydeps\n",
      "  Downloading ipydeps-2020.240.0.tar.gz (12 kB)\n",
      "Requirement already satisfied: pip in c:\\users\\khang\\appdata\\local\\programs\\python\\python39\\lib\\site-packages (from ipydeps) (21.2.4)\n",
      "Requirement already satisfied: setuptools in c:\\users\\khang\\appdata\\local\\programs\\python\\python39\\lib\\site-packages (from ipydeps) (49.2.1)\n",
      "Collecting pypki2>=0.10.1\n",
      "  Downloading pypki2-0.11.0.tar.gz (9.2 kB)\n",
      "Collecting pyOpenSSL\n",
      "  Downloading pyOpenSSL-21.0.0-py2.py3-none-any.whl (55 kB)\n",
      "Collecting cryptography>=3.3\n",
      "  Downloading cryptography-35.0.0-cp36-abi3-win_amd64.whl (2.1 MB)\n",
      "Requirement already satisfied: six>=1.5.2 in c:\\users\\khang\\appdata\\local\\programs\\python\\python39\\lib\\site-packages (from pyOpenSSL->pypki2>=0.10.1->ipydeps) (1.16.0)\n",
      "Requirement already satisfied: cffi>=1.12 in c:\\users\\khang\\appdata\\local\\programs\\python\\python39\\lib\\site-packages (from cryptography>=3.3->pyOpenSSL->pypki2>=0.10.1->ipydeps) (1.14.6)\n",
      "Requirement already satisfied: pycparser in c:\\users\\khang\\appdata\\local\\programs\\python\\python39\\lib\\site-packages (from cffi>=1.12->cryptography>=3.3->pyOpenSSL->pypki2>=0.10.1->ipydeps) (2.20)\n",
      "Building wheels for collected packages: ipydeps, pypki2\n",
      "  Building wheel for ipydeps (setup.py): started\n",
      "  Building wheel for ipydeps (setup.py): finished with status 'done'\n",
      "  Created wheel for ipydeps: filename=ipydeps-2020.240.0-py3-none-any.whl size=10842 sha256=35d0ba7d33c621acf447e7032cbac2936ba911bb22cc22b23f3f5b7a885ddc40\n",
      "  Stored in directory: c:\\users\\khang\\appdata\\local\\pip\\cache\\wheels\\30\\06\\cd\\3579b7f948eb5bf6ca96407df14ebc177dadd924eca7fc32ac\n",
      "  Building wheel for pypki2 (setup.py): started\n",
      "  Building wheel for pypki2 (setup.py): finished with status 'done'\n",
      "  Created wheel for pypki2: filename=pypki2-0.11.0-py3-none-any.whl size=10426 sha256=f0c40ee7b62b7fd3a35e38c4fcdae9aee3da826ad90b5ccdad595561361780b2\n",
      "  Stored in directory: c:\\users\\khang\\appdata\\local\\pip\\cache\\wheels\\c4\\63\\f1\\e0192a3081ff31b3eedb0bf8bf921d84690cd2edbda4e98763\n",
      "Successfully built ipydeps pypki2\n",
      "Installing collected packages: cryptography, pyOpenSSL, pypki2, ipydeps\n",
      "Successfully installed cryptography-35.0.0 ipydeps-2020.240.0 pyOpenSSL-21.0.0 pypki2-0.11.0\n"
     ]
    },
    {
     "data": {
      "text/html": [
       "<div style=\"font-family:monospace;background:#e6fee6;color:black\"><pre>Packages already installed: df2gspread, gspread, numpy, oauth2client, pandas, plotly</pre></div>"
      ],
      "text/plain": [
       "<IPython.core.display.HTML object>"
      ]
     },
     "metadata": {},
     "output_type": "display_data"
    },
    {
     "data": {
      "text/html": [
       "<div style=\"font-family:monospace;background:lightyellow;color:black\"><pre>No new packages installed</pre></div>"
      ],
      "text/plain": [
       "<IPython.core.display.HTML object>"
      ]
     },
     "metadata": {},
     "output_type": "display_data"
    },
    {
     "data": {
      "text/html": [
       "<div style=\"font-family:monospace;background:#eee;color:black\"><pre>Done</pre></div>"
      ],
      "text/plain": [
       "<IPython.core.display.HTML object>"
      ]
     },
     "metadata": {},
     "output_type": "display_data"
    }
   ],
   "source": [
    "!pip install ipydeps\n",
    "import ipydeps\n",
    "ipydeps.pip(['plotly', 'pandas', 'numpy', 'gspread', 'oauth2client', 'df2gspread'])\n",
    "import plotly\n",
    "import pandas as pd\n",
    "import numpy as np\n",
    "\n",
    "#Importing the module for google sheets connection\n",
    "import gspread\n",
    "from df2gspread import df2gspread as d2g\n",
    "from oauth2client.service_account import ServiceAccountCredentials"
   ]
  },
  {
   "cell_type": "markdown",
   "metadata": {},
   "source": [
    "***Load current data from Google Sheets***"
   ]
  },
  {
   "cell_type": "code",
   "execution_count": 2,
   "metadata": {},
   "outputs": [
    {
     "data": {
      "text/plain": [
       "WindowsPath('C:/Users/khang/git/SoccerAnalysis')"
      ]
     },
     "execution_count": 2,
     "metadata": {},
     "output_type": "execute_result"
    }
   ],
   "source": [
    "# Use this to figure out your current filepath and edit the path below\n",
    "import pathlib\n",
    "pathlib.Path().resolve()"
   ]
  },
  {
   "cell_type": "code",
   "execution_count": 4,
   "metadata": {},
   "outputs": [
    {
     "name": "stdout",
     "output_type": "stream",
     "text": [
      "Starting data pull...\n",
      "Success!\n"
     ]
    }
   ],
   "source": [
    "# The only thing you need to update is your filepath after you have the JSON\n",
    "path = 'assets/creds.json'#'/Users/sallgaier96/Desktop/playeranalysis-fbf42b63b873.json'\n",
    "\n",
    "# The scope is always look like this so we did not need to change anything\n",
    "# https://docs.google.com/spreadsheets/d/1-kUlYLeDEQyzw2PYnLn6quq7kFYJbduI_Zrk_bQ7_9A/edit#gid=1130953974\n",
    "scope = [\n",
    "   'https://spreadsheets.google.com/feeds',\n",
    "         'https://www.googleapis.com/auth/drive']\n",
    "#Name of our Service Account Key\n",
    "google_key_file = path\n",
    "credentials = ServiceAccountCredentials.from_json_keyfile_name(google_key_file, scope)\n",
    "gc = gspread.authorize(credentials)\n",
    "\n",
    "print(\"Starting data pull...\")\n",
    "#Opening the worksheet by using Worksheet ID\n",
    "workbook = gc.open_by_key('1-kUlYLeDEQyzw2PYnLn6quq7kFYJbduI_Zrk_bQ7_9A')\n",
    "#Selecting which sheet to pulling the data\n",
    "PlayerSheet = workbook.worksheet('PlayerOllie')\n",
    "TeamSheet = workbook.worksheet('TeamOllie')\n",
    "#Pulling the data and transform it to the data frame\n",
    "PlayerValues = PlayerSheet.get_all_values()\n",
    "TeamValues = TeamSheet.get_all_values()\n",
    "# We will call the output df PlayerOllie\n",
    "PlayerOllie = pd.DataFrame(PlayerValues[1:], columns = PlayerValues[0])\n",
    "TeamOllie = pd.DataFrame(TeamValues[1:], columns = TeamValues[0])\n",
    "print(\"Success!\")"
   ]
  },
  {
   "cell_type": "code",
   "execution_count": null,
   "metadata": {},
   "outputs": [],
   "source": []
  }
 ],
 "metadata": {
  "celltoolbar": "Raw Cell Format",
  "kernelspec": {
   "display_name": "Python 3 (ipykernel)",
   "language": "python",
   "name": "python3"
  },
  "language_info": {
   "codemirror_mode": {
    "name": "ipython",
    "version": 3
   },
   "file_extension": ".py",
   "mimetype": "text/x-python",
   "name": "python",
   "nbconvert_exporter": "python",
   "pygments_lexer": "ipython3",
   "version": "3.9.2"
  }
 },
 "nbformat": 4,
 "nbformat_minor": 2
}
